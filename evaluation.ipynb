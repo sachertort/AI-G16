{
 "cells": [
  {
   "cell_type": "code",
   "execution_count": null,
   "metadata": {},
   "outputs": [],
   "source": [
    "from copy import deepcopy\n",
    "\n",
    "import torch\n",
    "import torch.nn.functional as F\n",
    "from torch_geometric.loader import DataLoader\n",
    "from deeppavlov import build_model\n",
    "from sklearn.metrics import classification_report\n",
    "from tqdm.auto import tqdm\n",
    "\n",
    "from src.data_processing import read_json, get_dataset\n",
    "from src.graph_models import ConversationGAT\n",
    "\n",
    "DEVICE = torch.device(\"cuda\" if torch.cuda.is_available() else \"cpu\")\n",
    "EMOTIONS = [\"anger\", \"disgust\", \"fear\", \"joy\", \"sadness\", \"surprise\"]"
   ]
  },
  {
   "cell_type": "code",
   "execution_count": null,
   "metadata": {},
   "outputs": [],
   "source": [
    "def get_predictions(model, test_loader, test_data, classification_model):\n",
    "    pred_pairs = []\n",
    "    model.eval()\n",
    "    with torch.no_grad():\n",
    "        for dialog_id, data in enumerate(tqdm(test_loader)):\n",
    "            dialog_pred_pairs = []\n",
    "            data = data.to(DEVICE)\n",
    "\n",
    "            y_preds = model(data)\n",
    "            y_preds = torch.argmax(F.softmax(y_preds, dim=1), dim=1)\n",
    "            y_preds = y_preds.cpu().numpy()\n",
    "\n",
    "            edges = data.edge_index.cpu().numpy()\n",
    "\n",
    "            for i in range(edges.shape[1]):\n",
    "                if y_preds[i] > 0:\n",
    "                    cause_id, emotion_id = edges[:, i]\n",
    "                    cause_utterance_text = test_data[dialog_id][\"conversation\"][cause_id][\"text\"]\n",
    "                    emotion_utterance_text = test_data[dialog_id][\"conversation\"][emotion_id][\"text\"]\n",
    "                    if cause_id == emotion_id:\n",
    "                        emotion_type = classification_model([\"\"], [emotion_utterance_text])[0]\n",
    "                    else:\n",
    "                        emotion_type = classification_model([cause_utterance_text], [emotion_utterance_text])[0]\n",
    "                    dialog_pred_pairs.append((str(cause_id + 1), str(emotion_id + 1), emotion_type)) # \n",
    "            pred_pairs.append(dialog_pred_pairs)\n",
    "    return pred_pairs\n",
    "\n",
    "def get_golds(data):\n",
    "    gold_pairs = []\n",
    "    for dialog in data:\n",
    "        dialog_gold_pairs = []\n",
    "        for emotion, cause in dialog[\"emotion-cause_pairs\"]:\n",
    "            emotion_utterance_id, emotion_type = emotion.split(\"_\")\n",
    "            cause_utterance_id = cause.split(\"_\")[0]\n",
    "            dialog_gold_pairs.append((cause_utterance_id, emotion_utterance_id, emotion_type))\n",
    "        gold_pairs.append(dialog_gold_pairs)\n",
    "    return gold_pairs\n",
    "\n",
    "def preparee4evaluation(gold_pairs, pred_pairs):\n",
    "    gold4eval = []\n",
    "    pred4eval = []\n",
    "    for gold, pred in zip(gold_pairs, pred_pairs):\n",
    "        used = []\n",
    "        intersection = set(gold) & set(pred)\n",
    "        for gold_pair in gold:\n",
    "            gold4eval.append(gold_pair[2])\n",
    "            flag = False\n",
    "            if gold_pair in list(intersection):\n",
    "                pred4eval.append(gold_pair[2])\n",
    "                flag = True\n",
    "                used.append(pred.index(gold_pair))\n",
    "            else:\n",
    "                for emotion in EMOTIONS:\n",
    "                    if (gold_pair[0], gold_pair[1], emotion) in pred:\n",
    "                        pred4eval.append(emotion)\n",
    "                        flag = True\n",
    "                        used.append(pred.index((gold_pair[0], gold_pair[1], emotion)))\n",
    "                        break\n",
    "                if not flag:\n",
    "                    pred4eval.append(\"neutral\")\n",
    "        for i, pred_pair in enumerate(pred):\n",
    "            if i not in used:\n",
    "                pred4eval.append(pred_pair[2])\n",
    "                gold4eval.append(\"neutral\")\n",
    "    return gold4eval, pred4eval"
   ]
  },
  {
   "cell_type": "code",
   "execution_count": null,
   "metadata": {},
   "outputs": [],
   "source": [
    "model = ConversationGAT().to(DEVICE)\n",
    "model.load_state_dict(torch.load(\"models/best_model.pth\"))"
   ]
  },
  {
   "cell_type": "code",
   "execution_count": null,
   "metadata": {},
   "outputs": [],
   "source": [
    "test_data = read_json(\"data/Subtask_1_gold.json\")\n",
    "test_dataset = get_dataset(test_data, test=True)\n",
    "test_loader = DataLoader(test_dataset, batch_size=1, shuffle=False)"
   ]
  },
  {
   "cell_type": "code",
   "execution_count": null,
   "metadata": {},
   "outputs": [],
   "source": [
    "classification_model = build_model(\"src/emotion_classifier/glue_emo.json\")"
   ]
  },
  {
   "cell_type": "code",
   "execution_count": null,
   "metadata": {},
   "outputs": [],
   "source": [
    "gold4eval, pred4eval = preparee4evaluation(get_golds(test_data), get_predictions(model, \n",
    "                                                                                 test_loader, \n",
    "                                                                                 test_data, \n",
    "                                                                                 classification_model))\n",
    "print(classification_report(gold4eval, pred4eval, labels=EMOTIONS, digits=4))"
   ]
  },
  {
   "cell_type": "code",
   "execution_count": null,
   "metadata": {},
   "outputs": [],
   "source": [
    "reduced_emotions_list = deepcopy(EMOTIONS)\n",
    "reduced_emotions_list.remove(\"disgust\")\n",
    "emotionsreduced_emotions_list_list.remove(\"fear\")\n",
    "print(classification_report(gold4eval, pred4eval, labels=emotions_list, digits=4))"
   ]
  }
 ],
 "metadata": {
  "kernelspec": {
   "display_name": "ai701",
   "language": "python",
   "name": "python3"
  },
  "language_info": {
   "codemirror_mode": {
    "name": "ipython",
    "version": 3
   },
   "file_extension": ".py",
   "mimetype": "text/x-python",
   "name": "python",
   "nbconvert_exporter": "python",
   "pygments_lexer": "ipython3",
   "version": "3.9.18"
  }
 },
 "nbformat": 4,
 "nbformat_minor": 2
}
