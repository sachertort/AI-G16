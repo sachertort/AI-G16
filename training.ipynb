{
 "cells": [
  {
   "cell_type": "code",
   "execution_count": 1,
   "metadata": {},
   "outputs": [],
   "source": [
    "import json\n",
    "\n",
    "from torch_geometric.loader import DataLoader\n",
    "import torch\n",
    "from torch.optim import Adam\n",
    "from torch import nn\n",
    "from sklearn.metrics import f1_score\n",
    "\n",
    "from src.data_processing import read_json, get_dataset\n",
    "from src.graph_models import ConversationGAT\n",
    "\n",
    "\n",
    "DEVICE = torch.device(\"cuda\" if torch.cuda.is_available() else \"cpu\")"
   ]
  },
  {
   "cell_type": "code",
   "execution_count": null,
   "metadata": {},
   "outputs": [],
   "source": [
    "train_file = \"data/Subtask_1_train_real.json\"\n",
    "train = read_json(train_file)\n",
    "train_dataset = get_dataset(train)\n",
    "\n",
    "val_file = \"data/Subtask_1_dev.json\"\n",
    "val = read_json(val_file)\n",
    "val_dataset = get_dataset(val)"
   ]
  },
  {
   "cell_type": "code",
   "execution_count": null,
   "metadata": {},
   "outputs": [],
   "source": [
    "num_epochs = 200\n",
    "batch_size = 32\n",
    "learning_rate = 0.001\n",
    "weight_decay = 1e-5"
   ]
  },
  {
   "cell_type": "code",
   "execution_count": null,
   "metadata": {},
   "outputs": [],
   "source": [
    "loader = DataLoader(train_dataset, batch_size=batch_size, shuffle=True)\n",
    "val_loader = DataLoader(val_dataset, batch_size=batch_size, shuffle=False)\n",
    "\n",
    "model = ConversationGAT().to(DEVICE)\n",
    "\n",
    "optimizer = Adam(model.parameters(),\n",
    "                 lr=learning_rate,\n",
    "                 weight_decay=weight_decay)\n",
    "loss_func = nn.CrossEntropyLoss()\n",
    "\n",
    "best_metric = 0"
   ]
  },
  {
   "cell_type": "code",
   "execution_count": null,
   "metadata": {},
   "outputs": [],
   "source": [
    "for epoch in range(num_epochs):\n",
    "    for data in loader:\n",
    "        model.train()\n",
    "        data = data.to(DEVICE)\n",
    "        optimizer.zero_grad()\n",
    "        y_pred = model(data)\n",
    "        loss = loss_func(y_pred, data.y)\n",
    "        loss.backward()\n",
    "        optimizer.step()\n",
    "\n",
    "    model.eval()\n",
    "    y_golds = []\n",
    "    y_preds = []\n",
    "    with torch.no_grad():\n",
    "        for data in val_loader:\n",
    "            data = data.to(DEVICE)\n",
    "            y_pred = model(data)\n",
    "            y_pred = torch.argmax(F.softmax(y_pred, dim=1), dim=1)\n",
    "            y_preds.extend(y_pred.cpu().numpy())\n",
    "            y_golds.extend(data.y.cpu().numpy())\n",
    "\n",
    "        metric = f1_score(y_golds, y_preds)\n",
    "        if metric > best_metric:\n",
    "            best_metric = metric\n",
    "            torch.save(model.state_dict(), \"models/new_best_model.pth\")\n",
    "        if epoch % 10 == 0:\n",
    "            print(f\"\"\"Epoch {epoch+1}/{num_epochs}, Train Loss: {round(loss.item(), 2)}, Validation F1: {round(metric, 2)}\"\"\")\n",
    "\n",
    "print(\"Best Validation F1:\", round(best_metric, 2))\n",
    "model.load_state_dict(torch.load(\"models/new_best_model.pth\"))"
   ]
  }
 ],
 "metadata": {
  "kernelspec": {
   "display_name": "ai701",
   "language": "python",
   "name": "python3"
  },
  "language_info": {
   "codemirror_mode": {
    "name": "ipython",
    "version": 3
   },
   "file_extension": ".py",
   "mimetype": "text/x-python",
   "name": "python",
   "nbconvert_exporter": "python",
   "pygments_lexer": "ipython3",
   "version": "3.9.18"
  }
 },
 "nbformat": 4,
 "nbformat_minor": 2
}
